{
 "cells": [
  {
   "cell_type": "code",
   "execution_count": 17,
   "id": "0c00e1fc-6a63-4260-b269-13438ee3e496",
   "metadata": {},
   "outputs": [
    {
     "name": "stdout",
     "output_type": "stream",
     "text": [
      "2012 Data:\n",
      "   accounting_date  fiscal_year  fiscal_month  calendar_year  calendar_month  \\\n",
      "0         20120509         2012            11           2012               5   \n",
      "1         20120216         2012             8           2012               2   \n",
      "2         20120509         2012            11           2012               5   \n",
      "3         20120518         2012            11           2012               5   \n",
      "4         20120109         2012             7           2012               1   \n",
      "\n",
      "   calendar_day  company_code customer_code  customer_district_code  \\\n",
      "0             9           101     411800601                     410   \n",
      "1            16           101     361000403                     300   \n",
      "2             9           101     361000403                     300   \n",
      "3            18           101     565540415                     500   \n",
      "4             9           101     565540415                     500   \n",
      "\n",
      "                        item_code  ... value_quantity value_price_adjustment  \\\n",
      "0  GENIE8WWWBC                     ...           84.0                      0   \n",
      "1  GENIE8WWWBC                     ...           12.0                      0   \n",
      "2  GENIE8WWWBC                     ...           12.0                      0   \n",
      "3  GENIE8WWWBC                     ...            6.0                      0   \n",
      "4  GENIE8WWWBC                     ...            6.0                      0   \n",
      "\n",
      "  currency  item_source_class invoice_number line_number invoice_date  \\\n",
      "0      AUD                NaN        2217887           1     20120509   \n",
      "1      AUD                NaN        2185745           1     20120216   \n",
      "2      AUD                NaN        2217807           1     20120509   \n",
      "3      AUD                NaN        2222758           1     20120518   \n",
      "4      AUD                NaN        2170374           1     20120109   \n",
      "\n",
      "  customer_order_number order_date dss_update_time  \n",
      "0               2865354   20120509         49:58.7  \n",
      "1               2833515   20120216         49:58.7  \n",
      "2               2864857   20120508         49:58.7  \n",
      "3               2869759   20120518         49:58.7  \n",
      "4               2819189   20120109         49:58.7  \n",
      "\n",
      "[5 rows x 41 columns]\n",
      "\n",
      "2013 Data:\n",
      "   accounting_date  fiscal_year  fiscal_month  calendar_year  calendar_month  \\\n",
      "0         20130125         2013             7           2013               1   \n",
      "1         20130513         2013            11           2013               5   \n",
      "2         20130611         2013            12           2013               6   \n",
      "3         20130111         2013             7           2013               1   \n",
      "4         20130321         2013             9           2013               3   \n",
      "\n",
      "   calendar_day  company_code customer_code  customer_district_code item_code  \\\n",
      "0            25           205     471150112                     400     10311   \n",
      "1            13           205     277000801                     200     10311   \n",
      "2            11           205     292314701                     200     10350   \n",
      "3            11           205     299480703                     200     10350   \n",
      "4            21           205     471150015                     400     10364   \n",
      "\n",
      "   ... value_quantity value_price_adjustment currency  item_source_class  \\\n",
      "0  ...           -1.0                      0      AUD                NaN   \n",
      "1  ...            1.0                      0      AUD                NaN   \n",
      "2  ...            2.0                      0      AUD                NaN   \n",
      "3  ...            1.0                      0      AUD                NaN   \n",
      "4  ...            6.0                      0      AUD                NaN   \n",
      "\n",
      "  invoice_number line_number invoice_date customer_order_number order_date  \\\n",
      "0         277995           0     20130125                277995   20130125   \n",
      "1         749295           0     20130513                867468   20130510   \n",
      "2         756507           0     20130611                880839   20130611   \n",
      "3         724149           0     20130111                821554   20130111   \n",
      "4         738377           0     20130321                847171   20130320   \n",
      "\n",
      "  dss_update_time  \n",
      "0         49:58.7  \n",
      "1         49:58.7  \n",
      "2         49:58.7  \n",
      "3         49:58.7  \n",
      "4         49:58.7  \n",
      "\n",
      "[5 rows x 41 columns]\n"
     ]
    }
   ],
   "source": [
    "import pandas as pd\n",
    "\n",
    "# Replace 'column_7_name' and 'column_9_name' with the actual names from your CSV file\n",
    "dtype_dict = {\n",
    "    'column_7_name': 'object',  # or 'str'\n",
    "    'column_9_name': 'object'   # or 'str'\n",
    "}\n",
    "\n",
    "# Load each dataset separately with specified encoding, low_memory=False, and specified dtypes\n",
    "df_2012 = pd.read_csv('2012_Data.csv', encoding='ISO-8859-1', low_memory=False, dtype=dtype_dict)\n",
    "df_2013 = pd.read_csv('2013_Data.csv', encoding='ISO-8859-1', low_memory=False, dtype=dtype_dict)\n",
    "\n",
    "# Check the first few rows to confirm the data is loaded correctly\n",
    "print(\"2012 Data:\")\n",
    "print(df_2012.head())\n",
    "\n",
    "print(\"\\n2013 Data:\")\n",
    "print(df_2013.head())"
   ]
  },
  {
   "cell_type": "code",
   "execution_count": 23,
   "id": "e2c1ee5c-f1ec-46f2-916a-f3c0874406bc",
   "metadata": {},
   "outputs": [
    {
     "name": "stdout",
     "output_type": "stream",
     "text": [
      "Correlation between Sales and Cost by Order Type and Classification in 2012:\n",
      "   order_type_code reporting_classification      level_2  value_cost\n",
      "0              5TN               Continuing  value_sales    0.952148\n",
      "1              AES               Continuing  value_sales    0.943934\n",
      "2              AES            Discontinuing  value_sales    0.975855\n",
      "3              CDG               Continuing  value_sales    0.945039\n",
      "4              CDG            Discontinuing  value_sales    0.988521\n",
      "..             ...                      ...          ...         ...\n",
      "63             ZCR               Continuing  value_sales         NaN\n",
      "64             ZCR            Discontinuing  value_sales         NaN\n",
      "65             ZD3            Discontinuing  value_sales         NaN\n",
      "66             ZOP               Continuing  value_sales         NaN\n",
      "67             ZOP            Discontinuing  value_sales         NaN\n",
      "\n",
      "[68 rows x 4 columns]\n"
     ]
    }
   ],
   "source": [
    "#Sales vs. Cost Analysis\n",
    "#2012\n",
    "\n",
    "correlation_df2012 = df_2012.groupby(['order_type_code','reporting_classification'])[['value_sales','value_cost']].corr().iloc[0::2,-1].reset_index()\n",
    "print(\"Correlation between Sales and Cost by Order Type and Classification in 2012:\")\n",
    "print(correlation_df2012)"
   ]
  },
  {
   "cell_type": "code",
   "execution_count": 25,
   "id": "41d1dbd2-a89f-4b71-9564-66570a8f0a6f",
   "metadata": {},
   "outputs": [
    {
     "name": "stdout",
     "output_type": "stream",
     "text": [
      "Correlation between Sales and Cost by Order Type and Classification in 2013:\n",
      "   order_type_code reporting_classification      level_2  value_cost\n",
      "0              5TN               Continuing  value_sales    0.912849\n",
      "1              AES               Continuing  value_sales    0.980531\n",
      "2              AES            Discontinuing  value_sales    0.968126\n",
      "3              CDG               Continuing  value_sales    0.948811\n",
      "4              CDG            Discontinuing  value_sales    0.926019\n",
      "..             ...                      ...          ...         ...\n",
      "56             WDC            Discontinuing  value_sales   -0.518148\n",
      "57             ZCG               Continuing  value_sales    0.982939\n",
      "58             ZCG            Discontinuing  value_sales    0.977062\n",
      "59             ZCR               Continuing  value_sales         NaN\n",
      "60             ZCR            Discontinuing  value_sales         NaN\n",
      "\n",
      "[61 rows x 4 columns]\n"
     ]
    }
   ],
   "source": [
    "#2013\n",
    "\n",
    "correlation_df2013 = df_2013.groupby(['order_type_code','reporting_classification'])[['value_sales','value_cost']].corr().iloc[0::2,-1].reset_index()\n",
    "print(\"Correlation between Sales and Cost by Order Type and Classification in 2013:\")\n",
    "print(correlation_df2013)"
   ]
  },
  {
   "cell_type": "code",
   "execution_count": 33,
   "id": "dba3c567-ced2-4ca8-bb6f-b3303f98ed15",
   "metadata": {},
   "outputs": [
    {
     "name": "stdout",
     "output_type": "stream",
     "text": [
      "\n",
      "Average Price Adjustment by Reporting Classification in 2012:\n",
      "reporting_classification\n",
      "Continuing       0.021770\n",
      "Discontinuing    0.027338\n",
      "Name: value_price_adjustment, dtype: float64\n"
     ]
    }
   ],
   "source": [
    "#Impact of price adjustments\n",
    "\n",
    "#2012\n",
    "avg_price_adjustment2012 = df_2012.groupby('reporting_classification')['value_price_adjustment'].mean()\n",
    "print(\"\\nAverage Price Adjustment by Reporting Classification in 2012:\")\n",
    "print(avg_price_adjustment2012)"
   ]
  },
  {
   "cell_type": "code",
   "execution_count": 35,
   "id": "67c1627f-30ad-458d-bf4e-18cb2cf1ad28",
   "metadata": {},
   "outputs": [
    {
     "name": "stdout",
     "output_type": "stream",
     "text": [
      "\n",
      "Average Price Adjustment by Reporting Classification in 2013:\n",
      "reporting_classification\n",
      "Continuing       0.020191\n",
      "Discontinuing    0.024051\n",
      "Name: value_price_adjustment, dtype: float64\n"
     ]
    }
   ],
   "source": [
    "#2013\n",
    "\n",
    "ave_price_adjustment2013 = df_2013.groupby('reporting_classification')['value_price_adjustment'].mean()\n",
    "print(\"\\nAverage Price Adjustment by Reporting Classification in 2013:\")\n",
    "print(ave_price_adjustment2013)"
   ]
  },
  {
   "cell_type": "code",
   "execution_count": 41,
   "id": "df8e15af-b998-4e9f-8ffa-800f8591c805",
   "metadata": {},
   "outputs": [
    {
     "name": "stdout",
     "output_type": "stream",
     "text": [
      "\n",
      "Average Profit per Unit by Order Type Code in 2012:\n",
      "order_type_code\n",
      "5TN    2668.259864\n",
      "AES      95.284315\n",
      "CDG      11.165054\n",
      "COA      32.965838\n",
      "COP            inf\n",
      "CPR      70.870798\n",
      "CRD            NaN\n",
      "CRP           -inf\n",
      "CRR      27.095666\n",
      "CSH      27.176349\n",
      "CSO      15.040000\n",
      "EDI      20.607195\n",
      "EDS      17.201745\n",
      "EXP      11.325392\n",
      "MIN      31.931507\n",
      "NOH       9.831040\n",
      "NOR      14.942174\n",
      "NOS      55.699429\n",
      "OBS      42.955778\n",
      "PGS     497.735385\n",
      "PM0      58.485925\n",
      "PMO      92.254397\n",
      "PPD      89.345212\n",
      "PPO      41.869378\n",
      "PRD     113.895294\n",
      "PRO      94.470198\n",
      "PSA      65.341889\n",
      "PUP      37.225841\n",
      "SPC     122.056194\n",
      "SPL     622.095357\n",
      "WDC      45.551802\n",
      "ZC2           -inf\n",
      "ZCG      28.354962\n",
      "ZCR           -inf\n",
      "ZD3       2.733300\n",
      "ZOP            inf\n",
      "Name: profit_per_unit, dtype: float64\n"
     ]
    }
   ],
   "source": [
    "#Order Quantity and Profit Analysis\n",
    "#2012\n",
    "df_2012['profit_per_unit'] = (df_2012['value_sales'] - df_2012['value_cost']) / df_2012['value_quantity']\n",
    "\n",
    "avg_profit_per_type2012 = df_2012.groupby('order_type_code')['profit_per_unit'].mean()\n",
    "print(\"\\nAverage Profit per Unit by Order Type Code in 2012:\")\n",
    "print(avg_profit_per_type2012)"
   ]
  },
  {
   "cell_type": "code",
   "execution_count": 43,
   "id": "821783cb-bc40-47a2-8fae-744fbd2a6af6",
   "metadata": {},
   "outputs": [
    {
     "name": "stdout",
     "output_type": "stream",
     "text": [
      "\n",
      "Average Profit per Unit by Order Type Code in 2013:\n",
      "order_type_code\n",
      "5TN    2174.579389\n",
      "AES     213.401262\n",
      "CDG      10.616860\n",
      "COA      29.654342\n",
      "COP            inf\n",
      "CPR      94.892018\n",
      "CRD            NaN\n",
      "CRP           -inf\n",
      "CRR      23.136702\n",
      "CSH      44.670884\n",
      "CSO      57.410000\n",
      "EDI      17.175454\n",
      "EDS       8.333079\n",
      "EXP      28.747873\n",
      "MIN      33.695438\n",
      "NOH       9.968098\n",
      "NOR      16.240132\n",
      "NOS      41.682140\n",
      "OBS       4.409550\n",
      "PME      75.423508\n",
      "PMO     130.962620\n",
      "PPD     159.118700\n",
      "PPO      39.452535\n",
      "PRD      92.900954\n",
      "PRO      87.294955\n",
      "PSA      68.233396\n",
      "PUP      29.980168\n",
      "SPC     136.763019\n",
      "SPL     447.273077\n",
      "WDC     -65.172000\n",
      "ZCG      25.067692\n",
      "ZCR           -inf\n",
      "Name: profit_per_unit, dtype: float64\n"
     ]
    }
   ],
   "source": [
    "#2013\n",
    "\n",
    "df_2013['profit_per_unit'] = (df_2013['value_sales'] - df_2013['value_cost']) / df_2013['value_quantity']\n",
    "avg_profit_per_type2013 = df_2013.groupby('order_type_code')['profit_per_unit'].mean()\n",
    "print(\"\\nAverage Profit per Unit by Order Type Code in 2013:\")\n",
    "print(avg_profit_per_type2013)"
   ]
  },
  {
   "cell_type": "code",
   "execution_count": null,
   "id": "b8936d88-9441-45f8-a9ec-0e3cad768808",
   "metadata": {},
   "outputs": [],
   "source": []
  },
  {
   "cell_type": "code",
   "execution_count": null,
   "id": "601ebc03-1612-47ac-be7e-243a0c52144e",
   "metadata": {},
   "outputs": [],
   "source": []
  },
  {
   "cell_type": "code",
   "execution_count": 47,
   "id": "b6c8e4ce-a08e-49b2-9cda-21d5ed48cc59",
   "metadata": {},
   "outputs": [
    {
     "name": "stdout",
     "output_type": "stream",
     "text": [
      "Columns with negative vales in 2012 dataset:\n",
      "value_sales: 60526 negative values\n",
      "value_cost: 34606 negative values\n",
      "value_quantity: 34621 negative values\n"
     ]
    }
   ],
   "source": [
    "#Columns with Negative values\n",
    "\n",
    "#2012\n",
    "columns_to_check = [\"value_sales\",\"value_cost\",\"value_quantity\",\"value_price_adjustment\"]\n",
    "\n",
    "negative_values = {}\n",
    "for col in columns_to_check:\n",
    "    if df_2012[col].dtype in ['int64','float64']:\n",
    "        neg_count = (df_2012[col]<0).sum()\n",
    "        if neg_count > 0:\n",
    "            negative_values[col] = neg_count\n",
    "\n",
    "if negative_values:\n",
    "    print(\"Columns with negative vales in 2012 dataset:\")\n",
    "    for col,count in negative_values.items():\n",
    "        print(f\"{col}: {count} negative values\")\n",
    "else:\n",
    "    print(\"No columns with negative values found in the 2012 dataset.\")"
   ]
  },
  {
   "cell_type": "code",
   "execution_count": 63,
   "id": "bd0fd486-0f75-446d-b46a-90ad26589e9d",
   "metadata": {},
   "outputs": [
    {
     "name": "stdout",
     "output_type": "stream",
     "text": [
      "Correlation between Negative Sales, Cost, and Quantity:\n",
      "                value_sales  value_cost  value_quantity\n",
      "value_sales        1.000000    0.536703        0.167695\n",
      "value_cost         0.536703    1.000000        0.290157\n",
      "value_quantity     0.167695    0.290157        1.000000\n"
     ]
    }
   ],
   "source": [
    "# Filter dataset for rows where values are negative\n",
    "neg_values_df = df_2012[(df_2012['value_sales'] < 0) & (df_2012['value_cost'] < 0) & (df_2012['value_quantity'] < 0)]\n",
    "\n",
    "# Calculate correlation between the negative columns\n",
    "neg_corr = neg_values_df[['value_sales', 'value_cost', 'value_quantity']].corr()\n",
    "print(\"Correlation between Negative Sales, Cost, and Quantity:\")\n",
    "print(neg_corr)\n"
   ]
  },
  {
   "cell_type": "code",
   "execution_count": null,
   "id": "ea8a6c78-a640-491f-b3ab-0e2f69f2bac7",
   "metadata": {},
   "outputs": [],
   "source": []
  },
  {
   "cell_type": "code",
   "execution_count": null,
   "id": "1dc3d38b-74ea-43d6-9e6b-727fd078c24e",
   "metadata": {},
   "outputs": [],
   "source": []
  },
  {
   "cell_type": "code",
   "execution_count": null,
   "id": "a947828d-b8f4-47ea-ada2-7040c136ecf9",
   "metadata": {},
   "outputs": [],
   "source": []
  },
  {
   "cell_type": "code",
   "execution_count": 79,
   "id": "9bcb0b44-4626-4921-b472-4cc019a38f03",
   "metadata": {},
   "outputs": [
    {
     "name": "stdout",
     "output_type": "stream",
     "text": [
      "Columns with negative vales in 2012 dataset:\n",
      "value_sales: 53011 negative values\n",
      "value_cost: 32341 negative values\n",
      "value_quantity: 32354 negative values\n"
     ]
    }
   ],
   "source": [
    "#Columns with Negative values\n",
    "\n",
    "#2013\n",
    "columns_to_check = [\"value_sales\",\"value_cost\",\"value_quantity\",\"value_price_adjustment\"]\n",
    "\n",
    "negative_values = {}\n",
    "for col in columns_to_check:\n",
    "    if df_2013[col].dtype in ['int64','float64']:\n",
    "        neg_count = (df_2013[col]<0).sum()\n",
    "        if neg_count > 0:\n",
    "            negative_values[col] = neg_count\n",
    "\n",
    "if negative_values:\n",
    "    print(\"Columns with negative vales in 2012 dataset:\")\n",
    "    for col,count in negative_values.items():\n",
    "        print(f\"{col}: {count} negative values\")\n",
    "else:\n",
    "    print(\"No columns with negative values found in the 2013 dataset.\")"
   ]
  },
  {
   "cell_type": "code",
   "execution_count": 83,
   "id": "00bcef0f-ebbb-447f-897b-fcf71f98f26d",
   "metadata": {},
   "outputs": [
    {
     "name": "stdout",
     "output_type": "stream",
     "text": [
      "Correlation between Negative Sales, Cost, and Quantity:\n",
      "                value_sales  value_cost  value_quantity\n",
      "value_sales        1.000000    0.932890        0.242594\n",
      "value_cost         0.932890    1.000000        0.276047\n",
      "value_quantity     0.242594    0.276047        1.000000\n"
     ]
    }
   ],
   "source": [
    "# Filter dataset for rows where values are negative\n",
    "neg_values_df = df_2013[(df_2013['value_sales'] < 0) & (df_2013['value_cost'] < 0) & (df_2013['value_quantity'] < 0)]\n",
    "\n",
    "# Calculate correlation between the negative columns\n",
    "neg_corr = neg_values_df[['value_sales', 'value_cost', 'value_quantity']].corr()\n",
    "print(\"Correlation between Negative Sales, Cost, and Quantity:\")\n",
    "print(neg_corr)\n"
   ]
  },
  {
   "cell_type": "code",
   "execution_count": null,
   "id": "863a02d9-b365-4590-8498-388205941188",
   "metadata": {},
   "outputs": [],
   "source": []
  }
 ],
 "metadata": {
  "kernelspec": {
   "display_name": "Python 3 (ipykernel)",
   "language": "python",
   "name": "python3"
  },
  "language_info": {
   "codemirror_mode": {
    "name": "ipython",
    "version": 3
   },
   "file_extension": ".py",
   "mimetype": "text/x-python",
   "name": "python",
   "nbconvert_exporter": "python",
   "pygments_lexer": "ipython3",
   "version": "3.12.4"
  }
 },
 "nbformat": 4,
 "nbformat_minor": 5
}
