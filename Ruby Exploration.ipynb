{
 "cells": [
  {
   "cell_type": "code",
   "execution_count": 122,
   "id": "c24b0d79-5152-4fe0-90c3-50d459b6a4fb",
   "metadata": {},
   "outputs": [
    {
     "name": "stdout",
     "output_type": "stream",
     "text": [
      "  reporting_classification order_type_code  value_sales  value_cost  \\\n",
      "0            Discontinuing             NOR       218.40    178.1976   \n",
      "1            Discontinuing             NOR        38.28     25.4568   \n",
      "2            Discontinuing             NOR        40.20     25.4568   \n",
      "3            Discontinuing             EDI        20.10     12.7284   \n",
      "4            Discontinuing             EDI        19.14     12.7284   \n",
      "\n",
      "   value_quantity  value_price_adjustment currency  invoice_number  \\\n",
      "0            84.0                       0      AUD         2217887   \n",
      "1            12.0                       0      AUD         2185745   \n",
      "2            12.0                       0      AUD         2217807   \n",
      "3             6.0                       0      AUD         2222758   \n",
      "4             6.0                       0      AUD         2170374   \n",
      "\n",
      "   line_number  invoice_date  order_date  \n",
      "0            1      20120509    20120509  \n",
      "1            1      20120216    20120216  \n",
      "2            1      20120509    20120508  \n",
      "3            1      20120518    20120518  \n",
      "4            1      20120109    20120109  \n"
     ]
    }
   ],
   "source": [
    "import pandas as pd\n",
    "\n",
    "# Load the dataset with specified columns\n",
    "columns_to_use = ['order_type_code', 'value_sales', 'value_cost', 'value_quantity', 'value_price_adjustment', \n",
    "                  'reporting_classification', 'order_date', 'line_number', 'invoice_number', 'invoice_date', 'currency']\n",
    "\n",
    "df = pd.read_csv('2012_Data.csv', encoding='ISO-8859-1', usecols=columns_to_use, low_memory=False)\n",
    "\n",
    "print(df.head())"
   ]
  },
  {
   "cell_type": "code",
   "execution_count": 124,
   "id": "67eb8eda-ad0e-42a3-b5b0-11cf4ba59aed",
   "metadata": {},
   "outputs": [
    {
     "name": "stdout",
     "output_type": "stream",
     "text": [
      "<class 'pandas.core.frame.DataFrame'>\n",
      "RangeIndex: 1037205 entries, 0 to 1037204\n",
      "Data columns (total 11 columns):\n",
      " #   Column                    Non-Null Count    Dtype  \n",
      "---  ------                    --------------    -----  \n",
      " 0   reporting_classification  1037205 non-null  object \n",
      " 1   order_type_code           1037205 non-null  object \n",
      " 2   value_sales               1037205 non-null  float64\n",
      " 3   value_cost                1037205 non-null  float64\n",
      " 4   value_quantity            1037205 non-null  float64\n",
      " 5   value_price_adjustment    1037205 non-null  int64  \n",
      " 6   currency                  1037205 non-null  object \n",
      " 7   invoice_number            1037205 non-null  int64  \n",
      " 8   line_number               1037205 non-null  int64  \n",
      " 9   invoice_date              1037205 non-null  int64  \n",
      " 10  order_date                1037205 non-null  int64  \n",
      "dtypes: float64(3), int64(5), object(3)\n",
      "memory usage: 87.0+ MB\n",
      "None\n"
     ]
    }
   ],
   "source": [
    "#Check data types\n",
    "print(df.info())"
   ]
  },
  {
   "cell_type": "code",
   "execution_count": 126,
   "id": "fb0060ad-ed0b-43b7-a563-5fa814fd5fef",
   "metadata": {},
   "outputs": [],
   "source": [
    "#Convert date columns\n",
    "df['order_date'] = pd.to_datetime(df['order_date'],errors='coerce')\n",
    "df['invoice_date'] = pd.to_datetime(df['invoice_date'],errors='coerce')"
   ]
  },
  {
   "cell_type": "code",
   "execution_count": 128,
   "id": "b1533d16-1b93-46a2-86da-49ef78353cce",
   "metadata": {},
   "outputs": [
    {
     "name": "stdout",
     "output_type": "stream",
     "text": [
      "reporting_classification    0.0\n",
      "order_type_code             0.0\n",
      "value_sales                 0.0\n",
      "value_cost                  0.0\n",
      "value_quantity              0.0\n",
      "value_price_adjustment      0.0\n",
      "currency                    0.0\n",
      "invoice_number              0.0\n",
      "line_number                 0.0\n",
      "invoice_date                0.0\n",
      "order_date                  0.0\n",
      "dtype: float64\n"
     ]
    }
   ],
   "source": [
    "#Check for missing values in percentage\n",
    "# Display missing values in percentage\n",
    "missing_percentage = (df.isnull().sum() / len(df)) * 100\n",
    "print(missing_percentage)"
   ]
  },
  {
   "cell_type": "code",
   "execution_count": 148,
   "id": "601ae9d2-d1ab-4f60-9009-2aaf1f000f5d",
   "metadata": {},
   "outputs": [
    {
     "name": "stdout",
     "output_type": "stream",
     "text": [
      "Number of occurrences for each duplicate invoice number:\n",
      "        invoice_number  duplicate_count\n",
      "0                  122                2\n",
      "1                  132                2\n",
      "2                  137                2\n",
      "3                  140                2\n",
      "4                  156                3\n",
      "...                ...              ...\n",
      "169565         7002352                9\n",
      "169566         7002353                9\n",
      "169567         7002354              105\n",
      "169568         7002355                7\n",
      "169569         7002356               68\n",
      "\n",
      "[169570 rows x 2 columns]\n"
     ]
    }
   ],
   "source": [
    "# Check for duplicates in the 'invoice_number' column and save them in '2012_duplicates'\n",
    "duplicates = df[df.duplicated(subset=['invoice_number'], keep=False)]\n",
    "duplicates.to_csv('2012_duplicates.csv', index=False)  # Save duplicates to a new dataset\n",
    "\n",
    "# Load the new dataset (optional, if you want to work directly with the saved file)\n",
    "duplicates = pd.read_csv('2012_duplicates.csv')\n",
    "\n",
    "# Group by 'invoice_number' and count occurrences for each duplicate invoice\n",
    "duplicate_counts = duplicates.groupby('invoice_number').size().reset_index(name='duplicate_count')\n",
    "\n",
    "# Display the result\n",
    "print(\"Number of occurrences for each duplicate invoice number:\")\n",
    "print(duplicate_counts)"
   ]
  },
  {
   "cell_type": "code",
   "execution_count": null,
   "id": "838b4c69-8415-4440-942b-7d7b4212e9f4",
   "metadata": {},
   "outputs": [],
   "source": [
    "#Inconsistency or Outlier Values"
   ]
  },
  {
   "cell_type": "code",
   "execution_count": 77,
   "id": "07673597-77bb-47ec-986f-965d13574373",
   "metadata": {},
   "outputs": [
    {
     "data": {
      "image/png": "[encoded data removed]",
      "text/plain": [
       "<Figure size 1000x600 with 1 Axes>"
      ]
     },
     "metadata": {},
     "output_type": "display_data"
    }
   ],
   "source": [
    "#outliers\n",
    "\n",
    "import seaborn as sns\n",
    "import matplotlib.pyplot as plt\n",
    "\n",
    "plt.figure(figsize=(10,6))\n",
    "sns.boxplot(data=df[['value_sales', 'value_cost', 'value_quantity']])\n",
    "plt.show()  # Visualize outliers using a boxplot\n"
   ]
  },
  {
   "cell_type": "code",
   "execution_count": 55,
   "id": "fd090eef-b824-4c1f-84d3-34cefaf497da",
   "metadata": {},
   "outputs": [
    {
     "name": "stdout",
     "output_type": "stream",
     "text": [
      "['NOR' 'EDI' 'CDG' 'PRO' 'NOS' 'CRR' 'EXP' 'EDS' 'CSH' 'PRD' 'CRD' 'NOH'\n",
      " 'COP' 'OBS' 'MIN' 'COA' 'PSA' 'PPD' 'WDC' 'PMO' 'CPR' 'CRP' 'PM0' 'PGS'\n",
      " 'SPL' 'AES' 'ZCG' 'ZCR' 'SPC' 'ZOP' 'ZC2' '5TN' 'PUP' 'PPO' 'ZD3' 'CSO']\n",
      "['Discontinuing' 'Continuing']\n",
      "['AUD' 'USD' 'AUS' 'NZD' '   ' 'EUR']\n"
     ]
    }
   ],
   "source": [
    "#Ensure categorical columns have consistent values (no typos or wrong categories)\n",
    "\n",
    "print(df['order_type_code'].unique())\n",
    "print(df['reporting_classification'].unique())\n",
    "print(df['currency'].unique())"
   ]
  },
  {
   "cell_type": "code",
   "execution_count": null,
   "id": "81c7c122-65d5-4978-907c-00cad02e2d1e",
   "metadata": {},
   "outputs": [],
   "source": []
  },
  {
   "cell_type": "code",
   "execution_count": 80,
   "id": "ee4df02e-a48c-45cd-ad0d-023c6ecc8213",
   "metadata": {},
   "outputs": [],
   "source": [
    "df2 = pd.read_csv('2013_Data.csv',encoding='ISO-8859-1',usecols=columns_to_use, low_memory = False)"
   ]
  },
  {
   "cell_type": "code",
   "execution_count": 64,
   "id": "c0e0a9ab-9fa0-429a-93e1-faf41e70c98d",
   "metadata": {},
   "outputs": [
    {
     "name": "stdout",
     "output_type": "stream",
     "text": [
      "reporting_classification    0.0\n",
      "order_type_code             0.0\n",
      "value_sales                 0.0\n",
      "value_cost                  0.0\n",
      "value_quantity              0.0\n",
      "value_price_adjustment      0.0\n",
      "currency                    0.0\n",
      "invoice_number              0.0\n",
      "line_number                 0.0\n",
      "invoice_date                0.0\n",
      "order_date                  0.0\n",
      "dtype: float64\n"
     ]
    }
   ],
   "source": [
    "#Check for missing values\n",
    "missing_percentage2 = (df2.isnull().sum() / len(df2)) * 100\n",
    "print(missing_percentage2)"
   ]
  },
  {
   "cell_type": "code",
   "execution_count": 150,
   "id": "e51642bf-eef6-4e89-9335-0d21fc3d7730",
   "metadata": {},
   "outputs": [
    {
     "name": "stdout",
     "output_type": "stream",
     "text": [
      "Number of occurrences for each duplicate invoice number:\n",
      "        invoice_number  duplicate_count\n",
      "0                    0              167\n",
      "1                  362                4\n",
      "2                  363                2\n",
      "3                  366                2\n",
      "4                  367                2\n",
      "...                ...              ...\n",
      "155341         7003017               63\n",
      "155342         7003018               19\n",
      "155343         7003019                3\n",
      "155344         7003020               67\n",
      "155345         7003021               13\n",
      "\n",
      "[155346 rows x 2 columns]\n"
     ]
    }
   ],
   "source": [
    "# Check for duplicates in the 'invoice_number' column and save them in '2012_duplicates'\n",
    "duplicates = df2[df2.duplicated(subset=['invoice_number'], keep=False)]\n",
    "duplicates.to_csv('2013_duplicates.csv', index=False)  # Save duplicates to a new dataset\n",
    "\n",
    "# Load the new dataset (optional, if you want to work directly with the saved file)\n",
    "duplicates = pd.read_csv('2013_duplicates.csv')\n",
    "\n",
    "# Group by 'invoice_number' and count occurrences for each duplicate invoice\n",
    "duplicate_counts = duplicates.groupby('invoice_number').size().reset_index(name='duplicate_count')\n",
    "\n",
    "# Display the result\n",
    "print(\"Number of occurrences for each duplicate invoice number:\")\n",
    "print(duplicate_counts)"
   ]
  },
  {
   "cell_type": "code",
   "execution_count": 71,
   "id": "2fd608f7-050a-4067-9211-ce2548e0fc8a",
   "metadata": {},
   "outputs": [
    {
     "name": "stdout",
     "output_type": "stream",
     "text": [
      "<class 'pandas.core.frame.DataFrame'>\n",
      "RangeIndex: 951177 entries, 0 to 951176\n",
      "Data columns (total 11 columns):\n",
      " #   Column                    Non-Null Count   Dtype  \n",
      "---  ------                    --------------   -----  \n",
      " 0   reporting_classification  951177 non-null  object \n",
      " 1   order_type_code           951177 non-null  object \n",
      " 2   value_sales               951177 non-null  float64\n",
      " 3   value_cost                951177 non-null  float64\n",
      " 4   value_quantity            951177 non-null  float64\n",
      " 5   value_price_adjustment    951177 non-null  int64  \n",
      " 6   currency                  951177 non-null  object \n",
      " 7   invoice_number            951177 non-null  int64  \n",
      " 8   line_number               951177 non-null  int64  \n",
      " 9   invoice_date              951177 non-null  int64  \n",
      " 10  order_date                951177 non-null  int64  \n",
      "dtypes: float64(3), int64(5), object(3)\n",
      "memory usage: 79.8+ MB\n",
      "None\n"
     ]
    }
   ],
   "source": [
    "#Data type check\n",
    "print(df2.info())"
   ]
  },
  {
   "cell_type": "code",
   "execution_count": 81,
   "id": "40232af2-6319-471d-a103-de783e7735ba",
   "metadata": {},
   "outputs": [
    {
     "data": {
      "image/png": "[encoded data removed]",
      "text/plain": [
       "<Figure size 1000x600 with 1 Axes>"
      ]
     },
     "metadata": {},
     "output_type": "display_data"
    }
   ],
   "source": [
    "#outliers\n",
    "\n",
    "import seaborn as sns\n",
    "import matplotlib.pyplot as plt\n",
    "\n",
    "plt.figure(figsize=(10,6))\n",
    "sns.boxplot(data=df2[['value_sales', 'value_cost', 'value_quantity']])\n",
    "plt.show()  # Visualize outliers using a boxplot\n"
   ]
  },
  {
   "cell_type": "code",
   "execution_count": 86,
   "id": "d7a8331f-32a5-4794-af9b-7d4429fa6660",
   "metadata": {},
   "outputs": [
    {
     "name": "stdout",
     "output_type": "stream",
     "text": [
      "['CRR' 'NOR' 'CRD' 'PRO' 'CSH' 'PRD' 'PPO' 'EXP' 'PUP' 'CDG' 'EDI' 'ZCR'\n",
      " 'NOS' 'NOH' 'AES' 'CPR' 'ZCG' 'SPC' 'EDS' 'PMO' 'CRP' 'COP' 'MIN' 'PSA'\n",
      " 'SPL' 'COA' '5TN' 'WDC' 'PPD' 'OBS' 'CSO' 'PME']\n",
      "['Continuing' 'Discontinuing']\n",
      "['AUD' 'AUS' 'NZD' 'USD' '   ']\n"
     ]
    }
   ],
   "source": [
    "#Clean Categorical Columns\n",
    "\n",
    "print(df['order_type_code'].unique())\n",
    "print(df['reporting_classification'].unique())\n",
    "print(df['currency'].unique())"
   ]
  },
  {
   "cell_type": "markdown",
   "id": "70b9492e-a20c-4d7e-a73a-228f4af549b7",
   "metadata": {},
   "source": [
    "**2012 returned customers**"
   ]
  },
  {
   "cell_type": "code",
   "execution_count": 229,
   "id": "64e2722e-d0cd-4485-9a4a-fcaaf978e518",
   "metadata": {},
   "outputs": [
    {
     "name": "stdout",
     "output_type": "stream",
     "text": [
      "Customer return counts within 3-6 months:\n",
      "Empty DataFrame\n",
      "Columns: [customer_code, return_count]\n",
      "Index: []\n"
     ]
    }
   ],
   "source": [
    "import pandas as pd\n",
    "\n",
    "# Load your data\n",
    "df = pd.read_csv('2012_Data.csv', encoding='ISO-8859-1', low_memory=False)\n",
    "\n",
    "# Ensure 'invoice_date' column is in datetime format\n",
    "df['invoice_date'] = pd.to_datetime(df['invoice_date'])\n",
    "\n",
    "# Sort by customer ID and invoice date to calculate the time difference between purchases\n",
    "df = df.sort_values(by=['customer_code', 'invoice_date'])\n",
    "\n",
    "# Calculate the difference in days between each invoice for the same customer\n",
    "df['days_between'] = df.groupby('customer_code')['invoice_date'].diff().dt.days\n",
    "\n",
    "# Filter for return periods between 90 and 180 days (approximately 3 to 6 months)\n",
    "returned_customers = df[(df['days_between'] >= 90) & (df['days_between'] <= 180)]\n",
    "\n",
    "# Count the number of return events in the 3-6 month range for each customer\n",
    "return_counts = returned_customers.groupby('customer_code').size().reset_index(name='return_count')\n",
    "\n",
    "# Print customer code and the number of times they returned within 3-6 months\n",
    "print(\"Customer return counts within 3-6 months:\")\n",
    "print(return_counts)"
   ]
  },
  {
   "cell_type": "markdown",
   "id": "49b0d2e1-e175-4de5-a5b5-6b65246fe848",
   "metadata": {},
   "source": [
    "**2013 returned customers**"
   ]
  },
  {
   "cell_type": "code",
   "execution_count": 208,
   "id": "f212005f-6584-4928-ae5b-82f09770a55d",
   "metadata": {},
   "outputs": [
    {
     "name": "stdout",
     "output_type": "stream",
     "text": [
      "Customer return counts within 3-6 months:\n",
      "Empty DataFrame\n",
      "Columns: [customer_code, return_count]\n",
      "Index: []\n"
     ]
    }
   ],
   "source": [
    "import pandas as pd\n",
    "\n",
    "# Load your data\n",
    "df3 = pd.read_csv('2013_Data.csv', encoding='ISO-8859-1', low_memory=False)\n",
    "\n",
    "# Ensure 'invoice_date' column is in datetime format\n",
    "df3['invoice_date'] = pd.to_datetime(df3['invoice_date'])\n",
    "\n",
    "# Sort by customer ID and invoice date to calculate the time difference between purchases\n",
    "df3 = df3.sort_values(by=['customer_code', 'invoice_date'])\n",
    "\n",
    "# Calculate the difference in days between each invoice for the same customer\n",
    "df3['days_between'] = df3.groupby('customer_code')['invoice_date'].diff().dt.days\n",
    "\n",
    "# Filter for return periods between 90 and 180 days (approximately 3 to 6 months)\n",
    "returned_customers = df3[(df3['days_between'] >= 90) & (df3['days_between'] <= 180)]\n",
    "\n",
    "# Count the number of return events in the 3-6 month range for each customer\n",
    "return_counts = returned_customers.groupby('customer_code').size().reset_index(name='return_count')\n",
    "\n",
    "# Print customer code and the number of times they returned within 3-6 months\n",
    "print(\"Customer return counts within 3-6 months:\")\n",
    "print(return_counts)\n"
   ]
  },
  {
   "cell_type": "code",
   "execution_count": 214,
   "id": "bf6e4fa2-e4a9-4714-a9cf-5affbc9c4f33",
   "metadata": {},
   "outputs": [
    {
     "name": "stdout",
     "output_type": "stream",
     "text": [
      "invoice_number\n",
      "7002085    897\n",
      "7002043    776\n",
      "7002264    677\n",
      "7002261    629\n",
      "7002259    548\n",
      "          ... \n",
      "712002       1\n",
      "736379       1\n",
      "739903       1\n",
      "639886       1\n",
      "766287       1\n",
      "Name: count, Length: 341877, dtype: int64\n"
     ]
    }
   ],
   "source": [
    "import pandas as pd\n",
    "\n",
    "# Try using ISO-8859-1 encoding\n",
    "df2012 = pd.read_csv('2012_Data.csv', encoding='ISO-8859-1', low_memory=False)\n",
    "\n",
    "# Proceed with your analysis\n",
    "invoice_counts = df2012['invoice_number'].value_counts()\n",
    "print(invoice_counts)"
   ]
  },
  {
   "cell_type": "code",
   "execution_count": 216,
   "id": "d3d8dda9-da2d-40f9-a77b-8c2340f13bd9",
   "metadata": {},
   "outputs": [
    {
     "name": "stdout",
     "output_type": "stream",
     "text": [
      "invoice_number\n",
      "7002633    468\n",
      "7002650    341\n",
      "789646     259\n",
      "7002828    249\n",
      "7002462    245\n",
      "          ... \n",
      "805008       1\n",
      "643666       1\n",
      "803058       1\n",
      "809947       1\n",
      "2383667      1\n",
      "Name: count, Length: 333798, dtype: int64\n"
     ]
    }
   ],
   "source": [
    "import pandas as pd\n",
    "\n",
    "# Try using ISO-8859-1 encoding\n",
    "df2013 = pd.read_csv('2013_Data.csv', encoding='ISO-8859-1', low_memory=False)\n",
    "\n",
    "# Proceed with your analysis\n",
    "invoice_counts = df2013['invoice_number'].value_counts()\n",
    "print(invoice_counts)"
   ]
  },
  {
   "cell_type": "code",
   "execution_count": 221,
   "id": "6f61de58-5a4c-4f88-8bda-20b0cf51ae69",
   "metadata": {},
   "outputs": [
    {
     "name": "stdout",
     "output_type": "stream",
     "text": [
      "Summary of Invoices with 1 to 5 Digits in 2012:\n",
      "      invoice_number  total_entries  total_sales_value customer_codes\n",
      "0                  0              1               0.00    [234750001]\n",
      "1                116              1            4478.00    [201940001]\n",
      "2                117              1            3081.00    [202900200]\n",
      "3                118              1             249.99    [202900200]\n",
      "4                119              1            9920.00    [300115801]\n",
      "...              ...            ...                ...            ...\n",
      "4821           36839              1             500.00    [600095010]\n",
      "4822           36840             15           36652.10    [649111601]\n",
      "4823           36841              1             256.00    [650000504]\n",
      "4824           36842              3            1684.00    [552800304]\n",
      "4825           36843              1              49.86    [649111601]\n",
      "\n",
      "[4826 rows x 4 columns]\n"
     ]
    }
   ],
   "source": [
    "import pandas as pd\n",
    "\n",
    "# Load df2012\n",
    "df2012 = pd.read_csv('2012_Data.csv', encoding='ISO-8859-1', low_memory=False)\n",
    "\n",
    "# Filter invoices with 1 to 5 digits\n",
    "short_invoices_2012 = df2012[df2012['invoice_number'].astype(str).str.len().between(1, 5)]\n",
    "\n",
    "# Group by invoice number and summarize total entries, sales value, and unique customer codes\n",
    "summary_2012 = short_invoices_2012.groupby('invoice_number').agg(\n",
    "    total_entries=('invoice_number', 'size'),\n",
    "    total_sales_value=('value_sales', 'sum'),   # replace 'value_sales' with actual sales column if different\n",
    "    customer_codes=('customer_code', 'unique')  # replace 'customer_code' with actual customer code column if different\n",
    ").reset_index()\n",
    "\n",
    "print(\"Summary of Invoices with 1 to 5 Digits in 2012:\")\n",
    "print(summary_2012)\n"
   ]
  },
  {
   "cell_type": "code",
   "execution_count": 223,
   "id": "f8ec8d1b-59b6-4ba1-bcb1-6b6f4b148b6c",
   "metadata": {},
   "outputs": [
    {
     "name": "stdout",
     "output_type": "stream",
     "text": [
      "Summary of Invoices with 1 to 5 Digits in 2013:\n",
      "       invoice_number  total_entries  total_sales_value  \\\n",
      "0                   0            167           33086.01   \n",
      "1                 362              4            1766.16   \n",
      "2                 363              2            9359.60   \n",
      "3                 364              1              45.36   \n",
      "4                 365              1            1702.40   \n",
      "...               ...            ...                ...   \n",
      "12887           40589              3           14897.81   \n",
      "12888           40590              1               0.00   \n",
      "12889           40591              3            6434.60   \n",
      "12890           40592              2            1219.58   \n",
      "12891           40593              1            1330.70   \n",
      "\n",
      "                                          customer_codes  \n",
      "0      [124760100, 113000100, 138845501, 234750001, 1...  \n",
      "1                                            [201987100]  \n",
      "2                                            [201987100]  \n",
      "3                                            [201987100]  \n",
      "4                                            [201987100]  \n",
      "...                                                  ...  \n",
      "12887                                        [558865501]  \n",
      "12888                                        [209846501]  \n",
      "12889                                        [252000102]  \n",
      "12890                                        [252000102]  \n",
      "12891                                        [510900616]  \n",
      "\n",
      "[12892 rows x 4 columns]\n"
     ]
    }
   ],
   "source": [
    "import pandas as pd\n",
    "\n",
    "# Load df2013\n",
    "df2013 = pd.read_csv('2013_Data.csv', encoding='ISO-8859-1', low_memory=False)\n",
    "\n",
    "# Filter invoices with 1 to 5 digits\n",
    "short_invoices_2013 = df2013[df2013['invoice_number'].astype(str).str.len().between(1, 5)]\n",
    "\n",
    "# Group by invoice number and summarize total entries, sales value, and unique customer codes\n",
    "summary_2013 = short_invoices_2013.groupby('invoice_number').agg(\n",
    "    total_entries=('invoice_number', 'size'),\n",
    "    total_sales_value=('value_sales', 'sum'),   # replace 'value_sales' with actual sales column if different\n",
    "    customer_codes=('customer_code', 'unique')  # replace 'customer_code' with actual customer code column if different\n",
    ").reset_index()\n",
    "\n",
    "print(\"Summary of Invoices with 1 to 5 Digits in 2013:\")\n",
    "print(summary_2013)\n"
   ]
  },
  {
   "cell_type": "code",
   "execution_count": 225,
   "id": "5acbe1c5-3b35-4d1d-92fb-7f46a12a5280",
   "metadata": {},
   "outputs": [
    {
     "name": "stdout",
     "output_type": "stream",
     "text": [
      "Summary of Credit-Related Negative Sales Entries in 2012:\n",
      "       customer_district_code                       item_code  invoice_number  \\\n",
      "0                         200                           10000          260865   \n",
      "1                         200                           10000          261823   \n",
      "2                         200                           10000          262285   \n",
      "3                         200                           10000          264903   \n",
      "4                         200                           10000          268363   \n",
      "...                       ...                             ...             ...   \n",
      "52797                     720  Z30066                                  639940   \n",
      "52798                     720  Z30068                                  639940   \n",
      "52799                     720  Z60152                                  639940   \n",
      "52800                     720  Z63215                                  639940   \n",
      "52801                     720  Z67025                                  639940   \n",
      "\n",
      "       total_entries  total_sales_value  \n",
      "0                  1             -17.01  \n",
      "1                  1             -49.50  \n",
      "2                  1              -7.92  \n",
      "3                  1              -3.96  \n",
      "4                  1              -7.92  \n",
      "...              ...                ...  \n",
      "52797              1            -867.56  \n",
      "52798              1             -86.08  \n",
      "52799              1            -388.74  \n",
      "52800              1            -104.70  \n",
      "52801              1             -64.80  \n",
      "\n",
      "[52802 rows x 5 columns]\n"
     ]
    }
   ],
   "source": [
    "import pandas as pd\n",
    "\n",
    "# Load your dataset (assuming it’s already loaded as df2012)\n",
    "# df2012 = pd.read_csv('2012_Data.csv', encoding='ISO-8859-1', low_memory=False)\n",
    "\n",
    "# Define credit-related order types\n",
    "credit_order_types = ['CRR', 'CDG', 'CRD']\n",
    "\n",
    "# Filter for negative sales values with credit-related order types\n",
    "df2012_credit_neg = df2012[(df2012['value_sales'] < 0) & (df2012['order_type_code'].isin(credit_order_types))]\n",
    "\n",
    "# Summarize credit-related entries by region, product, and invoice number\n",
    "summary_2012 = df2012_credit_neg.groupby(['customer_district_code', 'item_code', 'invoice_number']).agg(\n",
    "    total_entries=('invoice_number', 'size'),\n",
    "    total_sales_value=('value_sales', 'sum')\n",
    ").reset_index()\n",
    "\n",
    "# Display the summarized results\n",
    "print(\"Summary of Credit-Related Negative Sales Entries in 2012:\")\n",
    "print(summary_2012)\n"
   ]
  },
  {
   "cell_type": "code",
   "execution_count": 227,
   "id": "645c159e-ab96-44cb-b7ee-46c8cc17de94",
   "metadata": {},
   "outputs": [
    {
     "name": "stdout",
     "output_type": "stream",
     "text": [
      "Summary of Credit-Related Negative Sales Entries in 2013:\n",
      "       customer_district_code                       item_code  invoice_number  \\\n",
      "0                         200  0.79872.43-906                         2358343   \n",
      "1                         200                           10000          278220   \n",
      "2                         200                           10000          279648   \n",
      "3                         200                           10000          285660   \n",
      "4                         200                           10000          285885   \n",
      "...                       ...                             ...             ...   \n",
      "47097                     720  Z62160                                    9982   \n",
      "47098                     720  Z62226                                    9986   \n",
      "47099                     720  Z67032                                    9985   \n",
      "47100                     720  Z67033F                                   9984   \n",
      "47101                     720  Z67033F                                   9985   \n",
      "\n",
      "       total_entries  total_sales_value  \n",
      "0                  1            -685.72  \n",
      "1                  1             -13.80  \n",
      "2                  1              -2.30  \n",
      "3                  1             -10.35  \n",
      "4                  1              -2.30  \n",
      "...              ...                ...  \n",
      "47097              1            -240.00  \n",
      "47098              1           -1200.00  \n",
      "47099              1            -385.00  \n",
      "47100              1             -20.24  \n",
      "47101              1             -26.40  \n",
      "\n",
      "[47102 rows x 5 columns]\n"
     ]
    }
   ],
   "source": [
    "# Assuming df2013 is already loaded\n",
    "# df2013 = pd.read_csv('2013_Data.csv', encoding='ISO-8859-1', low_memory=False)\n",
    "\n",
    "# Filter for negative sales values with credit-related order types\n",
    "df2013_credit_neg = df2013[(df2013['value_sales'] < 0) & (df2013['order_type_code'].isin(credit_order_types))]\n",
    "\n",
    "# Summarize credit-related entries by region, product, and invoice number\n",
    "summary_2013 = df2013_credit_neg.groupby(['customer_district_code', 'item_code', 'invoice_number']).agg(\n",
    "    total_entries=('invoice_number', 'size'),\n",
    "    total_sales_value=('value_sales', 'sum')\n",
    ").reset_index()\n",
    "\n",
    "# Display the summarized results\n",
    "print(\"Summary of Credit-Related Negative Sales Entries in 2013:\")\n",
    "print(summary_2013)\n"
   ]
  },
  {
   "cell_type": "code",
   "execution_count": null,
   "id": "440fb63c-f74c-445f-846a-7686a6549165",
   "metadata": {},
   "outputs": [],
   "source": []
  }
 ],
 "metadata": {
  "kernelspec": {
   "display_name": "Python 3 (ipykernel)",
   "language": "python",
   "name": "python3"
  },
  "language_info": {
   "codemirror_mode": {
    "name": "ipython",
    "version": 3
   },
   "file_extension": ".py",
   "mimetype": "text/x-python",
   "name": "python",
   "nbconvert_exporter": "python",
   "pygments_lexer": "ipython3",
   "version": "3.12.4"
  }
 },
 "nbformat": 4,
 "nbformat_minor": 5
}
